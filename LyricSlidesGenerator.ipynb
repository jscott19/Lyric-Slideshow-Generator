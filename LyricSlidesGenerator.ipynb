{
  "cells": [
    {
      "cell_type": "markdown",
      "metadata": {
        "id": "NR1vZqbL6DUk"
      },
      "source": [
        "# Install dependencies\n",
        "Run this cell the first time you open this notebook."
      ]
    },
    {
      "cell_type": "code",
      "execution_count": null,
      "metadata": {
        "colab": {
          "base_uri": "https://localhost:8080/"
        },
        "id": "0x5D3O6TNmiG",
        "outputId": "3c68c594-bd45-45b0-dfd3-e56f3b646962"
      },
      "outputs": [],
      "source": [
        "%pip install python-pptx\n",
        "%pip install lyricsgenius"
      ]
    },
    {
      "cell_type": "markdown",
      "metadata": {
        "id": "Q6BkAQt46DUw"
      },
      "source": [
        "# Define song name and artist\n",
        "Change these for each song!"
      ]
    },
    {
      "cell_type": "code",
      "execution_count": null,
      "metadata": {
        "id": "r9v3qaHVTZ14"
      },
      "outputs": [],
      "source": [
        "# Change below lines to whatever the song name and artist are. These should be the only lines you really need to change\n",
        "SONG_NAME = 'relate'\n",
        "SONG_ARTIST = 'for king and country'"
      ]
    },
    {
      "cell_type": "markdown",
      "metadata": {
        "id": "Jsvnb0zq6DUy"
      },
      "source": [
        "# Set up webscraper to get lyrics"
      ]
    },
    {
      "cell_type": "code",
      "execution_count": null,
      "metadata": {
        "colab": {
          "base_uri": "https://localhost:8080/"
        },
        "id": "fKQY1lelRrVA",
        "outputId": "79a52282-8554-4c86-85dd-b8ebf0c97ff3"
      },
      "outputs": [],
      "source": [
        "from lyricsgenius import Genius\n",
        "import logging\n",
        "\n",
        "token = \"MKXDngQJSmRPb_5r87eprRrAdAmfg3RUdduCCPQxwOg35j1idDACH3a7Abtyy-ZQ\"\n",
        "%env GENIUS_ACCESS_TOKEN=$token\n",
        "genius = Genius()"
      ]
    },
    {
      "cell_type": "code",
      "execution_count": null,
      "metadata": {
        "colab": {
          "base_uri": "https://localhost:8080/",
          "height": 467
        },
        "id": "OGvSDj50Tuy0",
        "outputId": "49ecbf04-4480-4daf-8609-7da112bb980c"
      },
      "outputs": [],
      "source": [
        "# artist = genius.search_artist(SONG_ARTIST, max_songs=5)\n",
        "# logging.debug(artist.songs)\n",
        "song = genius.search_song(SONG_NAME, SONG_ARTIST)"
      ]
    },
    {
      "cell_type": "code",
      "execution_count": null,
      "metadata": {
        "colab": {
          "base_uri": "https://localhost:8080/",
          "height": 165
        },
        "id": "LxuGGeXM6DU1",
        "outputId": "dd7d39b9-a862-453d-da76-6edc000fe0ac"
      },
      "outputs": [],
      "source": [
        "song.lyrics"
      ]
    },
    {
      "cell_type": "markdown",
      "metadata": {
        "id": "Wylc7i2_6DU2"
      },
      "source": [
        "# Define helpful functions"
      ]
    },
    {
      "cell_type": "markdown",
      "metadata": {
        "id": "V1vIQ53r6DU3"
      },
      "source": [
        "### Parsing Lyrics"
      ]
    },
    {
      "cell_type": "code",
      "execution_count": null,
      "metadata": {
        "id": "cdqLYrHv6DU4"
      },
      "outputs": [],
      "source": [
        "def get_stanza(lyrics):\n",
        "    # Divide lyrics into lines\n",
        "\n",
        "    l = len(lyrics)\n",
        "    # logging.debug(l)\n",
        "    lines = []\n",
        "    line = ''\n",
        "    isValidLine = lambda _line: _line != '' and not line.isdigit() and not \"Get tickets as low as\" in _line # for filtering out empty lines, headers, and any concert ads (which sometimes appear unexpectedly at the ends of stanzas)\n",
        "\n",
        "    i = 0\n",
        "    in_bracket = in_parens = False\n",
        "    while i < l:\n",
        "        char = lyrics[i]\n",
        "        i += 1\n",
        "        # if i > l: break\n",
        "        if char == ']':\n",
        "            # logging.debug('1')\n",
        "            in_bracket = False\n",
        "            if char == ']': # stanza complete, next header skipped\n",
        "                if isValidLine(line): lines.append(line+char)\n",
        "                line = ''\n",
        "            continue\n",
        "        elif char == ')':\n",
        "            in_parens = False\n",
        "            continue\n",
        "        if in_bracket:\n",
        "            #  logging.debug('2')\n",
        "            line += char\n",
        "            continue\n",
        "        if in_parens:\n",
        "            continue # ignore parentheticals\n",
        "        if char in '[':\n",
        "            # logging.debug('3')\n",
        "            in_bracket = True\n",
        "            if isValidLine(line): lines.append(line)\n",
        "            line = char if char == '[' else '' # entering header\n",
        "        elif char == '(':\n",
        "            in_parens = True\n",
        "            continue\n",
        "        elif char == '\\n':\n",
        "            # logging.debug('4')\n",
        "            if line != '' and line[-1] != char:\n",
        "                # logging.debug('5')\n",
        "                if isValidLine(line): lines.append(line)\n",
        "                line = ''\n",
        "        else:\n",
        "            # logging.debug(l)\n",
        "            line += char\n",
        "\n",
        "    if isValidLine: lines.append(line) # append last line\n",
        "\n",
        "    # Yield stanzas\n",
        "\n",
        "    isHeader = lambda text: text[0] == '[' and text[-1] == ']'\n",
        "\n",
        "    j = 1\n",
        "    stanza = []\n",
        "    while j < len(lines):\n",
        "        clean_line = lines[j].strip()  # remove leading or trailing whitespace\n",
        "\n",
        "        # remove end-of-line annotations\n",
        "        last_word = clean_line.split(' ')[-1]\n",
        "        if last_word[-1].isdigit() and not last_word.isdigit():\n",
        "            while last_word[-1].isdigit() and not last_word.isdigit():\n",
        "                clean_line = clean_line[:-1]\n",
        "                last_word = clean_line.split(' ')[-1]\n",
        "\n",
        "        if isHeader(clean_line):\n",
        "            if stanza != []:\n",
        "                s = stanza[:]\n",
        "                stanza = []\n",
        "                yield s # yield next stanza\n",
        "        else:\n",
        "            stanza.append(clean_line)\n",
        "        j += 1\n",
        "    yield stanza # yield final stanza"
      ]
    },
    {
      "cell_type": "markdown",
      "metadata": {
        "id": "6TL5g3eJ6DU5"
      },
      "source": [
        "Test stanza extraction:"
      ]
    },
    {
      "cell_type": "code",
      "execution_count": null,
      "metadata": {
        "id": "YqYt_AqA6DU6"
      },
      "outputs": [],
      "source": [
        "lyrics = list((song.lyrics.replace('Embed', '')).replace('You might also like', ''))\n",
        "stanzas = get_stanza(lyrics)"
      ]
    },
    {
      "cell_type": "code",
      "execution_count": null,
      "metadata": {
        "id": "CWkOo1gW6DU6",
        "outputId": "4765ce86-1c8c-41ef-af16-522e979875e3"
      },
      "outputs": [],
      "source": [
        "print(list(stanzas)) #test"
      ]
    },
    {
      "cell_type": "markdown",
      "metadata": {
        "id": "rZ3LlJ2n6DU7"
      },
      "source": [
        "### Making presentations"
      ]
    },
    {
      "cell_type": "code",
      "execution_count": null,
      "metadata": {
        "id": "k8_1JEzV6DU8"
      },
      "outputs": [],
      "source": [
        "from pptx import Presentation\n",
        "from pptx.dml.color import RGBColor\n",
        "from pptx.util import Inches, Pt\n",
        "from pptx.enum.text import PP_ALIGN, MSO_AUTO_SIZE, PP_PARAGRAPH_ALIGNMENT\n",
        "\n",
        "to_rgb = lambda color: RGBColor.from_string(color) if type(color) == str else RGBColor(color[0], color[1], color[2]) # convert hex string to RGBColor\n",
        "\n",
        "def set_bg(slide, color='000000'):\n",
        "    \"Set the background color of the given slide to the given color.\"\n",
        "    fill = slide.background.fill\n",
        "    fill.solid()\n",
        "    fill.fore_color.rgb = to_rgb(color)\n",
        "\n",
        "def add_title_slide(prs, name, artist, color='FFFFFF'):\n",
        "    \"Add a title slide with the given song name and artist.\"\n",
        "    title_slide_layout = prs.slide_layouts[0]\n",
        "    slide = prs.slides.add_slide(title_slide_layout)\n",
        "    set_bg(slide)\n",
        "    title = slide.shapes.title\n",
        "    subtitle = slide.placeholders[1]\n",
        "\n",
        "    for box in [title, subtitle]:\n",
        "        left, top, width, height = Inches(8) - box.width//2, box.top, box.width, box.height\n",
        "        box.left, box.top, box.width, box.height = left, top, width, height\n",
        "\n",
        "    title.text = name\n",
        "    title.text_frame.paragraphs[0].font.color.rgb = to_rgb(color)\n",
        "\n",
        "    subtitle.text = artist\n",
        "\n",
        "\n",
        "def add_text_slide(prs, text_list, size=40, margin=0.5, color='FFFFFF'):\n",
        "    \"Add a slide with a textbox containing the given text.\"\n",
        "    blank_slide_layout = prs.slide_layouts[6]\n",
        "    slide = prs.slides.add_slide(blank_slide_layout)\n",
        "    set_bg(slide)\n",
        "\n",
        "    top = width = height = Inches(margin)\n",
        "    left = Inches(8) - width//2\n",
        "    top *= 2\n",
        "    txBox = slide.shapes.add_textbox(left, top, width, height)\n",
        "    tf = txBox.text_frame\n",
        "\n",
        "    tf.text = '\\n'.join(text_list)\n",
        "    p = tf.paragraphs[0]\n",
        "    p.font.size = Pt(size)\n",
        "    p.alignment = PP_PARAGRAPH_ALIGNMENT.CENTER\n",
        "    tf.auto_size = MSO_AUTO_SIZE.TEXT_TO_FIT_SHAPE\n",
        "\n",
        "    for p in tf.paragraphs:\n",
        "        p.font.color.rgb = to_rgb(color)\n",
        "        p.font.size = Pt(size)\n",
        "        p.alignment = PP_PARAGRAPH_ALIGNMENT.CENTER\n"
      ]
    },
    {
      "cell_type": "markdown",
      "metadata": {
        "id": "UuNrfndE6DU9"
      },
      "source": [
        "# Make the slideshow!"
      ]
    },
    {
      "cell_type": "code",
      "execution_count": null,
      "metadata": {
        "colab": {
          "base_uri": "https://localhost:8080/",
          "height": 235
        },
        "id": "kR-nrOyU6DU9",
        "outputId": "d609ef97-fad9-40d9-e959-aa6b0970fefc"
      },
      "outputs": [],
      "source": [
        "prs = Presentation()\n",
        "prs.slide_width, prs.slide_height = Inches(16), Inches(9)\n",
        "\n",
        "add_title_slide(prs, song.title, song.artist)\n",
        "\n",
        "# Remove links and annotations from lyrics\n",
        "lyrics = (song.lyrics.replace('Embed', '')).replace('You might also like', '').split(' ')\n",
        "for word in lyrics:\n",
        "    # logging.debug(word)\n",
        "    if word == '': continue\n",
        "    if word[-1].isdigit() and not word.isdigit():\n",
        "        while word[-1].isdigit() and not word.isdigit():\n",
        "            word = word[:-1]\n",
        "lyrics = list(' '.join(lyrics))\n",
        "\n",
        "for stanza in get_stanza(lyrics): # make lyric slides for each song section (maximum 6 lines per slide)\n",
        "    num_lines = len(stanza)\n",
        "    if num_lines < 7:\n",
        "        add_text_slide(prs, stanza)\n",
        "    else:\n",
        "        max_lines_per_slide = 4\n",
        "        if num_lines % max_lines_per_slide != 0:\n",
        "            for n in (5,3):\n",
        "                if num_lines % n == 0:\n",
        "                    max_lines_per_slide = n\n",
        "                    break\n",
        "        i = 0\n",
        "        while i < num_lines:\n",
        "            text = stanza[i:i+max_lines_per_slide]\n",
        "            add_text_slide(prs, text)\n",
        "            i += max_lines_per_slide\n",
        "\n",
        "prs.save(song.title+'.pptx')\n",
        "print('Done! Saved to '+song.title+'.pptx')"
      ]
    },
    {
      "cell_type": "markdown",
      "metadata": {
        "id": "HfFZTmM46DU-"
      },
      "source": [
        "Finished! The slideshow should be saved to your local computer as \"{Song Title}.pptx\" in this folder."
      ]
    }
  ],
  "metadata": {
    "colab": {
      "provenance": []
    },
    "kernelspec": {
      "display_name": "Python 3",
      "language": "python",
      "name": "python3"
    },
    "language_info": {
      "codemirror_mode": {
        "name": "ipython",
        "version": 3
      },
      "file_extension": ".py",
      "mimetype": "text/x-python",
      "name": "python",
      "nbconvert_exporter": "python",
      "pygments_lexer": "ipython3",
      "version": "3.12.1"
    },
    "vscode": {
      "interpreter": {
        "hash": "c7e34dd9407df14ae90f658fcbf10da3594f068b7beffeaa4e48e8e2f1b6872e"
      }
    }
  },
  "nbformat": 4,
  "nbformat_minor": 0
}
